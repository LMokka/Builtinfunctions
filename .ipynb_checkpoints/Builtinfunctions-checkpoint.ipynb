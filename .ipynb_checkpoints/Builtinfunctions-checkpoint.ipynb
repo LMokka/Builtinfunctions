{
 "cells": [
  {
   "cell_type": "markdown",
   "id": "28aad868",
   "metadata": {},
   "source": [
    "Exercises\n",
    "Exercise #1\n",
    "Filter out all of the empty strings from the list below\n",
    "\n",
    "Output: ['Argentina', 'San Diego', 'Boston', 'New York']"
   ]
  },
  {
   "cell_type": "code",
   "execution_count": 113,
   "id": "7670ca8f",
   "metadata": {},
   "outputs": [
    {
     "name": "stdout",
     "output_type": "stream",
     "text": [
      "[True, True, True, True, False, True, False, True, True]\n"
     ]
    }
   ],
   "source": [
    "#Note I tried the code below but it doesn't work because the len function counts spaces.\n",
    "places = [\" \",\"Argentina\", \" \", \"San Diego\",\"\",\"  \",\"\",\"Boston\",\"New York\"]\n",
    "\n",
    "def notblank(place):\n",
    "    return len(place) !=0\n",
    "\n",
    "not_blank_places = list(map(notblank, places))\n",
    "print(not_blank_places)\n",
    "\n",
    "\n"
   ]
  },
  {
   "cell_type": "code",
   "execution_count": 114,
   "id": "7f73e8e8",
   "metadata": {},
   "outputs": [
    {
     "name": "stdout",
     "output_type": "stream",
     "text": [
      "[' ', 'Argentina', ' ', 'San Diego', '  ', 'Boston', 'New York']\n"
     ]
    }
   ],
   "source": [
    "not_blank_places_filter = list(filter(notblank, places))\n",
    "print(not_blank_places_filter)"
   ]
  },
  {
   "cell_type": "code",
   "execution_count": 115,
   "id": "ab7ef77b",
   "metadata": {},
   "outputs": [
    {
     "name": "stdout",
     "output_type": "stream",
     "text": [
      "[False, True, False, True, None, False, None, True, True]\n",
      "['Argentina', 'San Diego', 'Boston', 'New York']\n"
     ]
    }
   ],
   "source": [
    "def notspace(places):\n",
    "    for place in places:\n",
    "        return place.strip() != ''\n",
    "\n",
    "notspaces = list(map(notspace, places))\n",
    "print(notspaces)\n",
    "\n",
    "notspaces_filter = list(filter(notspace, places))\n",
    "print(notspaces_filter)"
   ]
  },
  {
   "cell_type": "markdown",
   "id": "0bb59c01",
   "metadata": {},
   "source": [
    "Exercise #2\n",
    "Write an anonymous function that sorts this list by the last name...\n",
    "Hint: Use the \".sort()\" method or the \"sorted()\" function and access the key\"\n",
    "\n",
    "Output: ['Victor aNisimov', 'Gary A.J. Bernstein', 'Joel Carter', 'Andrew P. Garfield', 'David hassELHOFF']"
   ]
  },
  {
   "cell_type": "code",
   "execution_count": 148,
   "id": "219e7d67",
   "metadata": {},
   "outputs": [
    {
     "data": {
      "text/plain": [
       "['Victor aNisimov',\n",
       " 'Joel Carter',\n",
       " 'Gary A.J. Bernstein',\n",
       " 'Andrew P. Garfield',\n",
       " 'David hassELHOFF']"
      ]
     },
     "execution_count": 148,
     "metadata": {},
     "output_type": "execute_result"
    }
   ],
   "source": [
    "author = [\"Joel Carter\", \"Victor aNisimov\", \"Andrew P. Garfield\",\"David hassELHOFF\",\"Gary A.J. Bernstein\"]\n",
    "\n",
    "sorted(author, key=lambda name: name[-1], reverse=True)\n",
    "#Use a lambda function to sort the list by the last name\n",
    "\n",
    "#Why does this occur"
   ]
  },
  {
   "cell_type": "code",
   "execution_count": 158,
   "id": "77998484",
   "metadata": {},
   "outputs": [
    {
     "data": {
      "text/plain": [
       "['Victor aNisimov',\n",
       " 'Gary A.J. Bernstein',\n",
       " 'Joel Carter',\n",
       " 'Andrew P. Garfield',\n",
       " 'David hassELHOFF']"
      ]
     },
     "execution_count": 158,
     "metadata": {},
     "output_type": "execute_result"
    }
   ],
   "source": [
    "author.sort(key=lambda name: name.upper().split()[-1], reverse=False)\n",
    "author"
   ]
  },
  {
   "cell_type": "code",
   "execution_count": 152,
   "id": "bf05b89c",
   "metadata": {},
   "outputs": [
    {
     "data": {
      "text/plain": [
       "['David hassELHOFF',\n",
       " 'Victor aNisimov',\n",
       " 'Andrew P. Garfield',\n",
       " 'Joel Carter',\n",
       " 'Gary A.J. Bernstein']"
      ]
     },
     "execution_count": 152,
     "metadata": {},
     "output_type": "execute_result"
    }
   ],
   "source": [
    "author = [\"Joel Carter\", \"Victor aNisimov\", \"Andrew P. Garfield\",\"David hassELHOFF\",\"Gary A.J. Bernstein\"]\n",
    "\n",
    "sorted(author, key=lambda name: name.split()[-1], reverse=True)\n",
    "#Use a lambda function to sort the list by the last name\n",
    "\n",
    "#Why does this occur"
   ]
  },
  {
   "cell_type": "markdown",
   "id": "45396a06",
   "metadata": {},
   "source": [
    "Exercise #3\n",
    "Convert the list below from Celsius to Farhenheit, using the map function with a lambda...\n",
    "\n",
    "Output: [('Nashua', 89.6), ('Boston', 53.6), ('Los Angeles', 111.2), ('Miami', 84.2)]"
   ]
  },
  {
   "cell_type": "code",
   "execution_count": 117,
   "id": "185d2e89",
   "metadata": {},
   "outputs": [
    {
     "data": {
      "text/plain": [
       "[('Nashua', 89.6), ('Boston', 53.6), ('Los Angeles', 111.2), ('Miami', 84.2)]"
      ]
     },
     "execution_count": 117,
     "metadata": {},
     "output_type": "execute_result"
    }
   ],
   "source": [
    "# F = (9/5)*C + 32\n",
    "places = [('Nashua',32),(\"Boston\",12),(\"Los Angeles\",44),(\"Miami\",29)]\n",
    "\n",
    "#def convert (places):\n",
    "    #for place in places:\n",
    "        #print(place[1])\n",
    "        #print(type(place[1]))\n",
    "        #place[1] = place[1]*(9/5) + 32\n",
    "    #return places\n",
    "\n",
    "#print(type(places[0]))\n",
    "\n",
    "#list(map(convert, places))\n",
    "\n",
    "placeF = []\n",
    "\n",
    "def convert(places):\n",
    "    for place in places:\n",
    "        placeF.append((place[0],place[1]*(9/5) + 32)) \n",
    "    return placeF\n",
    "\n",
    "convert(places)\n",
    "\n",
    "#list(map(lambda place[1]: place[1]*(9/5)+32, places))\n",
    "\n",
    "#list(map(lambda place: place[1]*(9/5)+32, places))\n",
    "\n",
    "list(map(lambda place:(place[0],place[1]*(9/5)+32), places))"
   ]
  },
  {
   "cell_type": "markdown",
   "id": "851c9c71",
   "metadata": {},
   "source": [
    "### Exercise #4 <br>\n",
    "<p>Write a recursion function to perform the fibonacci sequence up to the number passed in.</p>\n",
    "\n",
    "`Output for fib(5) => \n",
    "Iteration 0: 1\n",
    "Iteration 1: 1\n",
    "Iteration 2: 2\n",
    "Iteration 3: 3\n",
    "Iteration 4: 5\n",
    "Iteration 5: 8`"
   ]
  },
  {
   "cell_type": "code",
   "execution_count": 122,
   "id": "7893e8ba",
   "metadata": {},
   "outputs": [
    {
     "data": {
      "text/plain": [
       "[0, 1, 1, 2]"
      ]
     },
     "execution_count": 122,
     "metadata": {},
     "output_type": "execute_result"
    }
   ],
   "source": [
    "Fib = [0, 1]\n",
    "def Fibon(n):\n",
    "    for i in range (1,n):\n",
    "        Fib.append(Fib[i]+Fib[i-1])\n",
    "    return Fib\n",
    "\n",
    "Fibon(3)"
   ]
  },
  {
   "cell_type": "code",
   "execution_count": 146,
   "id": "2c56056d",
   "metadata": {},
   "outputs": [
    {
     "name": "stdout",
     "output_type": "stream",
     "text": [
      "Iteration 0:0\n",
      "Iteration 1:1\n",
      "Iteration 2:1\n",
      "Iteration 3:2\n",
      "Iteration 4:3\n",
      "Iteration 5:5\n",
      "Iteration 6:8\n",
      "Iteration 7:13\n",
      "Iteration 8:21\n",
      "Iteration 9:34\n",
      "Iteration 10:55\n"
     ]
    },
    {
     "data": {
      "text/plain": [
       "[0, 1, 1, 2, 3, 5, 8, 13, 21, 34, 55]"
      ]
     },
     "execution_count": 146,
     "metadata": {},
     "output_type": "execute_result"
    }
   ],
   "source": [
    "Fibo = [0,1]\n",
    "\n",
    "def Fibonn(n):\n",
    "    if n == 0:\n",
    "       print(\"Iteration 0:0\")\n",
    "    elif n == 1:\n",
    "       print(\"Iteration 0:0\")\n",
    "       print(\"Iteration 1:1\")\n",
    "    else:\n",
    "      print(\"Iteration 0:0\")\n",
    "      for i in range (1,n):\n",
    "        Fibo.append(Fibo[i]+Fibo[i-1])\n",
    "        print(f\"Iteration {i}:{Fibo[i]}\")\n",
    "      print(f\"Iteration {n}:{Fibo[n]}\")\n",
    "    return Fibo  \n",
    "\n",
    "Fibonn(10)"
   ]
  }
 ],
 "metadata": {
  "kernelspec": {
   "display_name": "Python 3",
   "language": "python",
   "name": "python3"
  },
  "language_info": {
   "codemirror_mode": {
    "name": "ipython",
    "version": 3
   },
   "file_extension": ".py",
   "mimetype": "text/x-python",
   "name": "python",
   "nbconvert_exporter": "python",
   "pygments_lexer": "ipython3",
   "version": "3.8.8"
  }
 },
 "nbformat": 4,
 "nbformat_minor": 5
}
